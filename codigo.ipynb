{
 "cells": [
  {
   "cell_type": "code",
   "execution_count": 1,
   "id": "799f7b10",
   "metadata": {},
   "outputs": [],
   "source": [
    "import os\n",
    "import whisper\n",
    "import openai\n",
    "import requests_html\n",
    "import dataset\n",
    "import pprint\n",
    "\n",
    "from dotenv import load_dotenv\n",
    "from selenium.webdriver import Chrome\n",
    "from selenium.webdriver.common.by import By\n",
    "from selenium.webdriver.chrome.service import Service\n",
    "from webdriver_manager.chrome import ChromeDriverManager\n",
    "from moviepy.video.io.ffmpeg_tools import ffmpeg_extract_subclip"
   ]
  },
  {
   "cell_type": "code",
   "execution_count": null,
   "id": "2c550ec6",
   "metadata": {},
   "outputs": [],
   "source": [
    "navegador = Chrome(service=Service(ChromeDriverManager().install()))s"
   ]
  },
  {
   "cell_type": "code",
   "execution_count": null,
   "id": "66c18fed",
   "metadata": {},
   "outputs": [],
   "source": [
    "navegador.maximize_window()"
   ]
  },
  {
   "cell_type": "code",
   "execution_count": null,
   "id": "3e9ad54a",
   "metadata": {},
   "outputs": [],
   "source": [
    "navegador.get(\"https://pyvideo.org/index.html\")"
   ]
  },
  {
   "cell_type": "code",
   "execution_count": null,
   "id": "099e5bed",
   "metadata": {},
   "outputs": [],
   "source": [
    "links = navegador.find_elements(By.XPATH, '//article/a')"
   ]
  },
  {
   "cell_type": "code",
   "execution_count": null,
   "id": "72b2d25c",
   "metadata": {},
   "outputs": [],
   "source": [
    "for link in links:\n",
    "    print(link.get_attribute('href'))"
   ]
  },
  {
   "cell_type": "code",
   "execution_count": null,
   "id": "82852e2d",
   "metadata": {},
   "outputs": [],
   "source": [
    "links[0].click()"
   ]
  },
  {
   "cell_type": "code",
   "execution_count": null,
   "id": "6642ea38",
   "metadata": {},
   "outputs": [],
   "source": [
    "links_video = navegador.find_elements(By.LINK_TEXT, 'ARCHIVE')"
   ]
  },
  {
   "cell_type": "code",
   "execution_count": null,
   "id": "3d047f25",
   "metadata": {},
   "outputs": [],
   "source": [
    "for link_video in links_video:\n",
    "    print(link_video.get_attribute('href'))"
   ]
  },
  {
   "cell_type": "code",
   "execution_count": null,
   "id": "0e300fb6",
   "metadata": {},
   "outputs": [],
   "source": [
    "video_url = links_video[1].get_attribute('href')\n",
    "video_url"
   ]
  },
  {
   "cell_type": "code",
   "execution_count": null,
   "id": "56cbab9e",
   "metadata": {},
   "outputs": [],
   "source": [
    "sessao = requests_html.HTMLSession()"
   ]
  },
  {
   "cell_type": "code",
   "execution_count": null,
   "id": "e2295c5a",
   "metadata": {},
   "outputs": [],
   "source": [
    "resposta = sessao.get(video_url)"
   ]
  },
  {
   "cell_type": "code",
   "execution_count": null,
   "id": "0e09d9fa",
   "metadata": {},
   "outputs": [],
   "source": [
    "video_download = resposta.html.xpath('//a[contains(text(), \"MPEG4\")]/@href', first=True)\n",
    "video_download"
   ]
  },
  {
   "cell_type": "code",
   "execution_count": null,
   "id": "26eb7ca4",
   "metadata": {},
   "outputs": [],
   "source": [
    "resposta = sessao.get(f'https://archive.org{video_download}')\n",
    "with open('video.mp4', 'wb') as arquivo:\n",
    "    arquivo.write(resposta.content)"
   ]
  },
  {
   "cell_type": "code",
   "execution_count": null,
   "id": "76f4d972",
   "metadata": {},
   "outputs": [],
   "source": [
    "modelo = whisper.load_model(\"small\")"
   ]
  },
  {
   "cell_type": "code",
   "execution_count": null,
   "id": "f698c4c9",
   "metadata": {},
   "outputs": [],
   "source": [
    "ffmpeg_extract_subclip(\"video.mp4\", 0, 120, targetname=\"video_cortado.mp4\")"
   ]
  },
  {
   "cell_type": "code",
   "execution_count": null,
   "id": "df12ffa0",
   "metadata": {},
   "outputs": [],
   "source": [
    "transcricao = modelo.transcribe('video_cortado.mp4')"
   ]
  },
  {
   "cell_type": "code",
   "execution_count": null,
   "id": "9dfeed04",
   "metadata": {},
   "outputs": [],
   "source": [
    "pprint.pprint(transcricao)"
   ]
  },
  {
   "cell_type": "code",
   "execution_count": null,
   "id": "9200d011",
   "metadata": {},
   "outputs": [],
   "source": [
    "pprint.pprint(transcricao['text'])"
   ]
  },
  {
   "cell_type": "code",
   "execution_count": null,
   "id": "65ccb9df",
   "metadata": {},
   "outputs": [],
   "source": [
    "load_dotenv()"
   ]
  },
  {
   "cell_type": "code",
   "execution_count": null,
   "id": "17a57339",
   "metadata": {},
   "outputs": [],
   "source": [
    "openai.api_key = os.environ['OPENAI_KEY']"
   ]
  },
  {
   "cell_type": "code",
   "execution_count": null,
   "id": "6924a22f",
   "metadata": {},
   "outputs": [],
   "source": [
    "mensagens = []\n",
    "mensagens.append(\n",
    "    {\"role\": \"user\", \"content\": f\"traduza o seguinte de inglês para português: {transcricao['text']}\"},\n",
    ")\n",
    "chat = openai.ChatCompletion.create(\n",
    "    model=\"gpt-3.5-turbo\", messages=mensagens\n",
    ")\n",
    "chat['choices'][0]['message']['content']"
   ]
  },
  {
   "cell_type": "code",
   "execution_count": null,
   "id": "5a1d94c4",
   "metadata": {},
   "outputs": [],
   "source": []
  }
 ],
 "metadata": {
  "kernelspec": {
   "display_name": "Python 3 (ipykernel)",
   "language": "python",
   "name": "python3"
  },
  "language_info": {
   "codemirror_mode": {
    "name": "ipython",
    "version": 3
   },
   "file_extension": ".py",
   "mimetype": "text/x-python",
   "name": "python",
   "nbconvert_exporter": "python",
   "pygments_lexer": "ipython3",
   "version": "3.10.12"
  }
 },
 "nbformat": 4,
 "nbformat_minor": 5
}
